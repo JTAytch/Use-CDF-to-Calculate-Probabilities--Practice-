{
 "cells": [
  {
   "cell_type": "markdown",
   "id": "25d62565",
   "metadata": {},
   "source": [
    "# Use CDF to Calculate Probabilities (Practice)\n",
    "\n",
    "We will use the human height data set:\n",
    "\n",
    "Use the normal cumulative distribution function with the mean and standard deviation of female height to calculate the probability that a female's height is:\n",
    "\n",
    "1. between 55.0 and 56.0 inches\n",
    "\n",
    "2. is less than 5 feet (60 in)\n",
    "\n",
    "3. is greater than the mean (hint: do you know this answer intuitively?)\n",
    "\n",
    "\n",
    "Save your code to your Github repository and submit the link"
   ]
  },
  {
   "cell_type": "code",
   "execution_count": 1,
   "id": "288d867c",
   "metadata": {},
   "outputs": [
    {
     "data": {
      "text/plain": [
       "[]"
      ]
     },
     "execution_count": 1,
     "metadata": {},
     "output_type": "execute_result"
    }
   ],
   "source": [
    "import os\n",
    "os.makedirs('Data/',exist_ok=True) \n",
    "os.listdir(\"Data/\")\n"
   ]
  },
  {
   "cell_type": "code",
   "execution_count": 3,
   "id": "dc1e167f",
   "metadata": {},
   "outputs": [],
   "source": [
    "import pandas as pd\n",
    "import numpy as np\n",
    "import matplotlib.pyplot as plt\n",
    "import seaborn as sns\n",
    "import scipy.stats as stats\n",
    "\n"
   ]
  },
  {
   "cell_type": "code",
   "execution_count": 5,
   "id": "3c5845df",
   "metadata": {},
   "outputs": [],
   "source": [
    "df = pd.read_csv('Data/weight-height male-female - weight-height.csv')\n",
    "df\n",
    "males = df.loc[ df['Gender'] == 'Male'].copy()\n",
    "females = df.loc[ df['Gender'] == 'Female'].copy()"
   ]
  },
  {
   "cell_type": "code",
   "execution_count": 6,
   "id": "0dc9e281",
   "metadata": {},
   "outputs": [],
   "source": [
    "data = females['Height']\n",
    "\n"
   ]
  },
  {
   "cell_type": "markdown",
   "id": "5a882ae5",
   "metadata": {},
   "source": [
    "## between 55.0 and 56.0 inches"
   ]
  },
  {
   "cell_type": "code",
   "execution_count": 7,
   "id": "ed1d8f04",
   "metadata": {},
   "outputs": [],
   "source": [
    "low_end = 55.0\n",
    "high_end = 56.0\n"
   ]
  },
  {
   "cell_type": "code",
   "execution_count": 8,
   "id": "00d2ff92",
   "metadata": {},
   "outputs": [],
   "source": [
    "mean = np.mean(data)\n",
    "std = np.std(data)\n",
    "min = np.min(data)\n",
    "max = np.max(data)\n",
    "\n"
   ]
  },
  {
   "cell_type": "code",
   "execution_count": 10,
   "id": "4e29d638",
   "metadata": {},
   "outputs": [],
   "source": [
    "# Set the range and spacing for our normal curve\n",
    "x_range = np.linspace(min, max,1000)\n"
   ]
  },
  {
   "cell_type": "code",
   "execution_count": 12,
   "id": "772afa33",
   "metadata": {},
   "outputs": [
    {
     "data": {
      "image/png": "[encoded data removed]",
      "text/plain": [
       "<Figure size 1200x600 with 1 Axes>"
      ]
     },
     "metadata": {},
     "output_type": "display_data"
    }
   ],
   "source": [
    "fig, ax = plt.subplots(figsize=(12,6))\n",
    "sns.histplot(x=data, stat='density', cumulative = True)\n",
    "ax.axvline(low_end, color= 'black')\n",
    "ax.axvline(high_end, color ='black')\n",
    "ax.axvspan(low_end, high_end, color ='yellow', zorder = 0)\n",
    "ax.set_title('Range of Interest');\n"
   ]
  },
  {
   "cell_type": "code",
   "execution_count": 13,
   "id": "de7e7a61",
   "metadata": {},
   "outputs": [
    {
     "data": {
      "text/plain": [
       "0.0015043054289559897"
      ]
     },
     "execution_count": 13,
     "metadata": {},
     "output_type": "execute_result"
    }
   ],
   "source": [
    "## we subtract to find the probability of a value occurring in the range\n",
    "stats.norm.cdf(high_end, loc=mean,scale=std) - stats.norm.cdf(low_end,loc=mean, scale=std)\n",
    "\n"
   ]
  },
  {
   "cell_type": "markdown",
   "id": "e6f02b61",
   "metadata": {},
   "source": [
    "## is less than 5 feet (60 in)"
   ]
  },
  {
   "cell_type": "code",
   "execution_count": 14,
   "id": "2b4846c6",
   "metadata": {},
   "outputs": [
    {
     "data": {
      "text/plain": [
       "0.08446492725207488"
      ]
     },
     "execution_count": 14,
     "metadata": {},
     "output_type": "execute_result"
    }
   ],
   "source": [
    "stats.norm.cdf(60, loc=mean,scale=std)\n",
    "\n"
   ]
  },
  {
   "cell_type": "markdown",
   "id": "09bbf43b",
   "metadata": {},
   "source": [
    "## is greater than the mean (hint: do you know this answer intuitively?)"
   ]
  },
  {
   "cell_type": "code",
   "execution_count": 15,
   "id": "60ea7e3b",
   "metadata": {},
   "outputs": [
    {
     "data": {
      "text/plain": [
       "0.5"
      ]
     },
     "execution_count": 15,
     "metadata": {},
     "output_type": "execute_result"
    }
   ],
   "source": [
    "1 - stats.norm.cdf(mean, loc=mean,scale=std)"
   ]
  },
  {
   "cell_type": "markdown",
   "id": "8ea3c1f1",
   "metadata": {},
   "source": [
    "The mean is in the middle so it should always be 50%"
   ]
  }
 ],
 "metadata": {
  "kernelspec": {
   "display_name": "Python (dojo-env)",
   "language": "python",
   "name": "dojo-env"
  },
  "language_info": {
   "codemirror_mode": {
    "name": "ipython",
    "version": 3
   },
   "file_extension": ".py",
   "mimetype": "text/x-python",
   "name": "python",
   "nbconvert_exporter": "python",
   "pygments_lexer": "ipython3",
   "version": "3.9.15"
  },
  "toc": {
   "base_numbering": 1,
   "nav_menu": {},
   "number_sections": true,
   "sideBar": true,
   "skip_h1_title": false,
   "title_cell": "Table of Contents",
   "title_sidebar": "Contents",
   "toc_cell": false,
   "toc_position": {},
   "toc_section_display": true,
   "toc_window_display": false
  }
 },
 "nbformat": 4,
 "nbformat_minor": 5
}
